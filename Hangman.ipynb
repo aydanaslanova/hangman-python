{
 "cells": [
  {
   "cell_type": "code",
   "execution_count": 1,
   "metadata": {},
   "outputs": [
    {
     "name": "stdout",
     "output_type": "stream",
     "text": [
      "Requirement already satisfied: Random-Word in /Users/aydanaslanova/opt/anaconda3/lib/python3.8/site-packages (1.0.7)\n",
      "Requirement already satisfied: requests in /Users/aydanaslanova/opt/anaconda3/lib/python3.8/site-packages (from Random-Word) (2.24.0)\n",
      "Requirement already satisfied: nose in /Users/aydanaslanova/opt/anaconda3/lib/python3.8/site-packages (from Random-Word) (1.3.7)\n",
      "Requirement already satisfied: chardet<4,>=3.0.2 in /Users/aydanaslanova/opt/anaconda3/lib/python3.8/site-packages (from requests->Random-Word) (3.0.4)\n",
      "Requirement already satisfied: idna<3,>=2.5 in /Users/aydanaslanova/opt/anaconda3/lib/python3.8/site-packages (from requests->Random-Word) (2.10)\n",
      "Requirement already satisfied: certifi>=2017.4.17 in /Users/aydanaslanova/opt/anaconda3/lib/python3.8/site-packages (from requests->Random-Word) (2020.6.20)\n",
      "Requirement already satisfied: urllib3!=1.25.0,!=1.25.1,<1.26,>=1.21.1 in /Users/aydanaslanova/opt/anaconda3/lib/python3.8/site-packages (from requests->Random-Word) (1.25.11)\n",
      "\u001b[33mWARNING: You are using pip version 21.1.3; however, version 21.2.3 is available.\n",
      "You should consider upgrading via the '/Users/aydanaslanova/opt/anaconda3/bin/python -m pip install --upgrade pip' command.\u001b[0m\n",
      "Note: you may need to restart the kernel to use updated packages.\n"
     ]
    }
   ],
   "source": [
    "pip install Random-Word"
   ]
  },
  {
   "cell_type": "code",
   "execution_count": 2,
   "metadata": {},
   "outputs": [
    {
     "data": {
      "text/plain": [
       "'Brahmin'"
      ]
     },
     "execution_count": 2,
     "metadata": {},
     "output_type": "execute_result"
    }
   ],
   "source": [
    "from random_word import RandomWords\n",
    "r = RandomWords()\n",
    "r.get_random_word()"
   ]
  },
  {
   "cell_type": "code",
   "execution_count": 7,
   "metadata": {},
   "outputs": [
    {
     "name": "stdout",
     "output_type": "stream",
     "text": [
      "Welcome to Hangman\n",
      "Let the computer choose a word\n",
      "PALATIAL\n",
      "The computer chose the word\n",
      "This is what you will guess ['_', '_', '_', '_', '_', '_', '_', '_']\n",
      "Now please guess a letter w\n",
      "You guessed wrong, try again\n",
      "-Now please guess a letter w\n",
      "You guessed wrong, try again\n",
      "--Now please guess a letter w\n",
      "You guessed wrong, try again\n",
      "---Now please guess a letter w\n",
      "You guessed wrong, try again\n",
      "---o\n",
      "Now please guess a letter w\n",
      "You guessed wrong, try again\n",
      "---o\n",
      "   |\n",
      "Now please guess a letter w\n",
      "You guessed wrong, try again\n",
      "---o\n",
      "   |\n",
      "   A\n",
      "You lost\n"
     ]
    }
   ],
   "source": [
    "print(\"Welcome to Hangman\")\n",
    "\n",
    "print(\"Let the computer choose a word\")\n",
    "\n",
    "comp_hidden_word = r.get_random_word().upper()\n",
    "\n",
    "print(comp_hidden_word) #This line is just for testing. Remove later\n",
    "\n",
    "print(\"The computer chose the word\")\n",
    "\n",
    "hidden_version = []\n",
    "for letter in range(len(comp_hidden_word)):\n",
    "    hidden_version.append(\"_\")\n",
    "print(f\"This is what you will guess {hidden_version}\")\n",
    "\n",
    "\n",
    "list_version_of_comp_hidden_word = list(comp_hidden_word)\n",
    "\n",
    "mistakes = []\n",
    "\n",
    "\n",
    "def rod1():\n",
    "    hangman_rod1 = \"-\"\n",
    "    print(hangman_rod1, end = \"\")\n",
    "    \n",
    "def rod2():\n",
    "    hangman_rod2 = \"-\"\n",
    "    print(hangman_rod2, end = \"\")\n",
    "    \n",
    "def rod3():\n",
    "    hangman_rod3 = \"-\"\n",
    "    print(hangman_rod3, end = \"\")\n",
    "    \n",
    "def head():\n",
    "    hangman_head = \"o\"\n",
    "    print(hangman_head)\n",
    "\n",
    "def body():\n",
    "    hangman_body = \"   |\" \n",
    "    print(hangman_body)\n",
    "    \n",
    "def legs():\n",
    "    hangman_legs = \"   A\"  \n",
    "    print(hangman_legs)\n",
    "\n",
    "while \"_\" in hidden_version:\n",
    "     \n",
    "    ask_user = str(input(\"Now please guess a letter \")).upper()\n",
    "    if ask_user in list(comp_hidden_word):\n",
    "        for i in range(len(list_version_of_comp_hidden_word)):\n",
    "            if list_version_of_comp_hidden_word[i] == ask_user:\n",
    "                hidden_version[i] = ask_user\n",
    "                print(hidden_version)\n",
    "    else:\n",
    "        print(\"You guessed wrong, try again\") \n",
    "        mistakes.append(\"1 wrong guess\")\n",
    "        \n",
    "        if len(mistakes) == 1:\n",
    "            rod1()\n",
    "            \n",
    "        elif len(mistakes) == 2:\n",
    "            rod1()\n",
    "            rod2()\n",
    "            \n",
    "        elif len(mistakes) == 3:\n",
    "            rod1()\n",
    "            rod2()\n",
    "            rod3()\n",
    "        \n",
    "        elif len(mistakes) == 4:\n",
    "            rod1()\n",
    "            rod2()\n",
    "            rod3()\n",
    "            head()\n",
    "        \n",
    "        elif len(mistakes) == 5:\n",
    "            rod1()\n",
    "            rod2()\n",
    "            rod3()\n",
    "            head()\n",
    "            body()\n",
    "        \n",
    "        elif len(mistakes) == 6:\n",
    "            rod1()\n",
    "            rod2()\n",
    "            rod3()\n",
    "            head()\n",
    "            body()\n",
    "            legs() \n",
    "            print(\"You lost\")\n",
    "            break \n",
    "            \n",
    "                     \n",
    "if \"_\" not in hidden_version:        \n",
    "    print(\"Congrats, you guessed it!\")"
   ]
  },
  {
   "cell_type": "raw",
   "metadata": {},
   "source": []
  }
 ],
 "metadata": {
  "kernelspec": {
   "display_name": "Python 3",
   "language": "python",
   "name": "python3"
  },
  "language_info": {
   "codemirror_mode": {
    "name": "ipython",
    "version": 3
   },
   "file_extension": ".py",
   "mimetype": "text/x-python",
   "name": "python",
   "nbconvert_exporter": "python",
   "pygments_lexer": "ipython3",
   "version": "3.8.5"
  }
 },
 "nbformat": 4,
 "nbformat_minor": 4
}
